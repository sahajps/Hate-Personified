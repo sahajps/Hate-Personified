{
 "cells": [
  {
   "cell_type": "code",
   "execution_count": null,
   "id": "94401fa9",
   "metadata": {},
   "outputs": [],
   "source": [
    "# Sample-rough code to convert English language prompts to same language prompts"
   ]
  },
  {
   "cell_type": "code",
   "execution_count": 2,
   "id": "d8f4d309",
   "metadata": {},
   "outputs": [],
   "source": [
    "import pandas as pd"
   ]
  },
  {
   "cell_type": "code",
   "execution_count": 3,
   "id": "570f8e2d-7fb7-465f-8efe-149644ae9cb2",
   "metadata": {},
   "outputs": [
    {
     "data": {
      "text/plain": [
       "'The following statement is in Arabic langauge and a non-muslim annotated this as non-hateful: صحيح كان كلاب ابن كلب مع شعبى بس كان صاكر دول بول البعيروكانت مملكة المنشار ترتجف خوفا اذا ظهر بخطاب بالتلفاز وال… @url. Is the given statement hateful?'"
      ]
     },
     "execution_count": 3,
     "metadata": {},
     "output_type": "execute_result"
    }
   ],
   "source": [
    "file = 'PA_7' #'Enter file name to convert' # 'PA_7'\n",
    "\n",
    "df = pd.read_excel('RQ_ML/ChatGPT/'+file+'.xlsx')\n",
    "\n",
    "df.iloc[0].text"
   ]
  },
  {
   "cell_type": "code",
   "execution_count": 4,
   "id": "7c8eec7f-3c94-4e8a-bf39-1f61f67536aa",
   "metadata": {},
   "outputs": [],
   "source": [
    "def conv(s):\n",
    "    # write pre-prompt (context) in same language\n",
    "    pre = \"العبارة التالية مكتوبة باللغة العربية وقد علق غير المسلم على ذلك بأنه غير مكروه:\"\n",
    "    # write the instruction in same language\n",
    "    post = \"هل البيان المعطى يكره؟ الجواب بالكلام فقط.\"\n",
    "    \n",
    "\n",
    "    row = s.split(\": \", 1)[1].split(\" Is the given statement\")[0]\n",
    "    return pre+row+post"
   ]
  },
  {
   "cell_type": "code",
   "execution_count": 5,
   "id": "6d51d147-0d42-44ed-913b-35f94f55cb70",
   "metadata": {},
   "outputs": [
    {
     "data": {
      "text/plain": [
       "'العبارة التالية مكتوبة باللغة العربية وقد علق غير المسلم على ذلك بأنه غير مكروه:صحيح كان كلاب ابن كلب مع شعبى بس كان صاكر دول بول البعيروكانت مملكة المنشار ترتجف خوفا اذا ظهر بخطاب بالتلفاز وال… @url.هل البيان المعطى يكره؟ الجواب بالكلام فقط.'"
      ]
     },
     "execution_count": 5,
     "metadata": {},
     "output_type": "execute_result"
    }
   ],
   "source": [
    "df.text = df.text.apply(conv)\n",
    "\n",
    "df.iloc[0].text"
   ]
  },
  {
   "cell_type": "code",
   "execution_count": 6,
   "id": "df6eb361-b799-4230-ba10-07ead1959a3c",
   "metadata": {},
   "outputs": [
    {
     "data": {
      "text/html": [
       "<div>\n",
       "<style scoped>\n",
       "    .dataframe tbody tr th:only-of-type {\n",
       "        vertical-align: middle;\n",
       "    }\n",
       "\n",
       "    .dataframe tbody tr th {\n",
       "        vertical-align: top;\n",
       "    }\n",
       "\n",
       "    .dataframe thead th {\n",
       "        text-align: right;\n",
       "    }\n",
       "</style>\n",
       "<table border=\"1\" class=\"dataframe\">\n",
       "  <thead>\n",
       "    <tr style=\"text-align: right;\">\n",
       "      <th></th>\n",
       "      <th>text</th>\n",
       "      <th>label</th>\n",
       "      <th>gpt</th>\n",
       "    </tr>\n",
       "  </thead>\n",
       "  <tbody>\n",
       "    <tr>\n",
       "      <th>0</th>\n",
       "      <td>العبارة التالية مكتوبة باللغة العربية وقد علق ...</td>\n",
       "      <td>1</td>\n",
       "      <td>no</td>\n",
       "    </tr>\n",
       "    <tr>\n",
       "      <th>1</th>\n",
       "      <td>العبارة التالية مكتوبة باللغة العربية وقد علق ...</td>\n",
       "      <td>0</td>\n",
       "      <td>no.</td>\n",
       "    </tr>\n",
       "    <tr>\n",
       "      <th>2</th>\n",
       "      <td>العبارة التالية مكتوبة باللغة العربية وقد علق ...</td>\n",
       "      <td>1</td>\n",
       "      <td>yes.</td>\n",
       "    </tr>\n",
       "    <tr>\n",
       "      <th>3</th>\n",
       "      <td>العبارة التالية مكتوبة باللغة العربية وقد علق ...</td>\n",
       "      <td>0</td>\n",
       "      <td>no.</td>\n",
       "    </tr>\n",
       "    <tr>\n",
       "      <th>4</th>\n",
       "      <td>العبارة التالية مكتوبة باللغة العربية وقد علق ...</td>\n",
       "      <td>0</td>\n",
       "      <td>no.</td>\n",
       "    </tr>\n",
       "    <tr>\n",
       "      <th>...</th>\n",
       "      <td>...</td>\n",
       "      <td>...</td>\n",
       "      <td>...</td>\n",
       "    </tr>\n",
       "    <tr>\n",
       "      <th>495</th>\n",
       "      <td>العبارة التالية مكتوبة باللغة العربية وقد علق ...</td>\n",
       "      <td>0</td>\n",
       "      <td>no.</td>\n",
       "    </tr>\n",
       "    <tr>\n",
       "      <th>496</th>\n",
       "      <td>العبارة التالية مكتوبة باللغة العربية وقد علق ...</td>\n",
       "      <td>1</td>\n",
       "      <td>yes.</td>\n",
       "    </tr>\n",
       "    <tr>\n",
       "      <th>497</th>\n",
       "      <td>العبارة التالية مكتوبة باللغة العربية وقد علق ...</td>\n",
       "      <td>1</td>\n",
       "      <td>yes.</td>\n",
       "    </tr>\n",
       "    <tr>\n",
       "      <th>498</th>\n",
       "      <td>العبارة التالية مكتوبة باللغة العربية وقد علق ...</td>\n",
       "      <td>1</td>\n",
       "      <td>yes.</td>\n",
       "    </tr>\n",
       "    <tr>\n",
       "      <th>499</th>\n",
       "      <td>العبارة التالية مكتوبة باللغة العربية وقد علق ...</td>\n",
       "      <td>0</td>\n",
       "      <td>no.</td>\n",
       "    </tr>\n",
       "  </tbody>\n",
       "</table>\n",
       "<p>500 rows × 3 columns</p>\n",
       "</div>"
      ],
      "text/plain": [
       "                                                  text  label   gpt\n",
       "0    العبارة التالية مكتوبة باللغة العربية وقد علق ...      1    no\n",
       "1    العبارة التالية مكتوبة باللغة العربية وقد علق ...      0   no.\n",
       "2    العبارة التالية مكتوبة باللغة العربية وقد علق ...      1  yes.\n",
       "3    العبارة التالية مكتوبة باللغة العربية وقد علق ...      0   no.\n",
       "4    العبارة التالية مكتوبة باللغة العربية وقد علق ...      0   no.\n",
       "..                                                 ...    ...   ...\n",
       "495  العبارة التالية مكتوبة باللغة العربية وقد علق ...      0   no.\n",
       "496  العبارة التالية مكتوبة باللغة العربية وقد علق ...      1  yes.\n",
       "497  العبارة التالية مكتوبة باللغة العربية وقد علق ...      1  yes.\n",
       "498  العبارة التالية مكتوبة باللغة العربية وقد علق ...      1  yes.\n",
       "499  العبارة التالية مكتوبة باللغة العربية وقد علق ...      0   no.\n",
       "\n",
       "[500 rows x 3 columns]"
      ]
     },
     "execution_count": 6,
     "metadata": {},
     "output_type": "execute_result"
    }
   ],
   "source": [
    "df"
   ]
  },
  {
   "cell_type": "code",
   "execution_count": 7,
   "id": "1b50b025-2cfa-4c53-a937-a5c2bef18a6a",
   "metadata": {},
   "outputs": [],
   "source": [
    "# df.to_excel('RQ_ML/ChatGPT_SL/'+file+'.xlsx', index=False)"
   ]
  }
 ],
 "metadata": {
  "kernelspec": {
   "display_name": "Python 3 (ipykernel)",
   "language": "python",
   "name": "python3"
  },
  "language_info": {
   "codemirror_mode": {
    "name": "ipython",
    "version": 3
   },
   "file_extension": ".py",
   "mimetype": "text/x-python",
   "name": "python",
   "nbconvert_exporter": "python",
   "pygments_lexer": "ipython3",
   "version": "3.10.6"
  }
 },
 "nbformat": 4,
 "nbformat_minor": 5
}
