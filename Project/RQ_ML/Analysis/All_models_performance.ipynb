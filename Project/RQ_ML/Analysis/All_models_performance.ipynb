{
 "cells": [
  {
   "cell_type": "code",
   "execution_count": 5,
   "id": "633456f2-7524-4870-95c0-a5406aa3cd0b",
   "metadata": {},
   "outputs": [],
   "source": [
    "import pandas as pd\n",
    "import re\n",
    "from sklearn.metrics import f1_score, cohen_kappa_score\n",
    "from tqdm import tqdm"
   ]
  },
  {
   "cell_type": "code",
   "execution_count": 6,
   "id": "da5b037a-2646-47e0-9bd0-b6cf2091a552",
   "metadata": {},
   "outputs": [],
   "source": [
    "def map_fn(row):\n",
    "    row = str(row)\n",
    "    if(re.search('yes', row) and re.search('no', row)):\n",
    "        return None\n",
    "    elif(re.search('yes', row)):\n",
    "        return 1\n",
    "    elif(re.search('no', row)):\n",
    "        return 0\n",
    "    elif(re.search('hateful', row)):\n",
    "        return 1\n",
    "    elif(re.search('hate.', row)):\n",
    "        return 1\n",
    "\n",
    "    return None"
   ]
  },
  {
   "cell_type": "code",
   "execution_count": 7,
   "id": "20022a3a-6c64-4838-9a99-6c802c1e14a8",
   "metadata": {},
   "outputs": [
    {
     "name": "stderr",
     "output_type": "stream",
     "text": [
      "  0%|          | 0/40 [00:00<?, ?it/s]"
     ]
    },
    {
     "name": "stderr",
     "output_type": "stream",
     "text": [
      "100%|██████████| 40/40 [00:04<00:00,  9.54it/s]\n"
     ]
    }
   ],
   "source": [
    "files = ['PA_base'] + ['PA_'+str(i) for i in range(1,10)] + ['PF_base'] + ['PF_'+str(i) for i in range(1,10)] + ['PG_base'] + ['PG_'+str(i) for i in range(1,10)] + ['PH_base'] + ['PH_'+str(i) for i in range(1,10)]\n",
    "\n",
    "for f in tqdm(files):\n",
    "    df = pd.read_excel('../ChatGPT/'+f+'.xlsx')\n",
    "    col = df.columns[2:]\n",
    "    \n",
    "    no_ans = []\n",
    "    F1 = []\n",
    "    IAA = []\n",
    "    HS = []\n",
    "    \n",
    "    for i in col:\n",
    "        df[i] = df[i].apply(lambda x: str(x).lower())\n",
    "        df[i] = df[i].apply(map_fn)\n",
    "\n",
    "        pen = (df.shape[0]-df[i].isna().sum())/df.shape[0]\n",
    "        no_ans.append(df[i].isna().sum())\n",
    "\n",
    "        tmp = df[['label', i]].dropna()\n",
    "\n",
    "        F1.append(pen*f1_score(tmp['label'], tmp[i], average='weighted'))\n",
    "        IAA.append(pen*cohen_kappa_score(tmp['label'], tmp[i]))\n",
    "        HS.append(tmp[tmp[i]==1].shape[0]/tmp.shape[0])\n",
    "\n",
    "    \n",
    "    res = pd.read_csv('Performance.csv')\n",
    "    res[f+' Hal'] = no_ans\n",
    "    res[f+' F1'] = F1\n",
    "    res[f+' IAA'] = IAA\n",
    "    res[f+' HS'] = HS\n",
    "    res.to_csv('Performance.csv', index=False)"
   ]
  },
  {
   "cell_type": "code",
   "execution_count": 8,
   "id": "591b4c7b-bed8-4849-aa63-165a76fd5483",
   "metadata": {},
   "outputs": [
    {
     "data": {
      "text/html": [
       "<div>\n",
       "<style scoped>\n",
       "    .dataframe tbody tr th:only-of-type {\n",
       "        vertical-align: middle;\n",
       "    }\n",
       "\n",
       "    .dataframe tbody tr th {\n",
       "        vertical-align: top;\n",
       "    }\n",
       "\n",
       "    .dataframe thead th {\n",
       "        text-align: right;\n",
       "    }\n",
       "</style>\n",
       "<table border=\"1\" class=\"dataframe\">\n",
       "  <thead>\n",
       "    <tr style=\"text-align: right;\">\n",
       "      <th></th>\n",
       "      <th>Model</th>\n",
       "      <th>PA_base Hal</th>\n",
       "      <th>PA_base F1</th>\n",
       "      <th>PA_base IAA</th>\n",
       "      <th>PA_base HS</th>\n",
       "      <th>PA_1 Hal</th>\n",
       "      <th>PA_1 F1</th>\n",
       "      <th>PA_1 IAA</th>\n",
       "      <th>PA_1 HS</th>\n",
       "      <th>PA_2 Hal</th>\n",
       "      <th>...</th>\n",
       "      <th>PH_7 IAA</th>\n",
       "      <th>PH_7 HS</th>\n",
       "      <th>PH_8 Hal</th>\n",
       "      <th>PH_8 F1</th>\n",
       "      <th>PH_8 IAA</th>\n",
       "      <th>PH_8 HS</th>\n",
       "      <th>PH_9 Hal</th>\n",
       "      <th>PH_9 F1</th>\n",
       "      <th>PH_9 IAA</th>\n",
       "      <th>PH_9 HS</th>\n",
       "    </tr>\n",
       "  </thead>\n",
       "  <tbody>\n",
       "    <tr>\n",
       "      <th>0</th>\n",
       "      <td>gpt</td>\n",
       "      <td>0</td>\n",
       "      <td>0.787792</td>\n",
       "      <td>0.58</td>\n",
       "      <td>0.398</td>\n",
       "      <td>0</td>\n",
       "      <td>0.829967</td>\n",
       "      <td>0.66</td>\n",
       "      <td>0.486</td>\n",
       "      <td>0</td>\n",
       "      <td>...</td>\n",
       "      <td>0.031768</td>\n",
       "      <td>0.014</td>\n",
       "      <td>0</td>\n",
       "      <td>0.378382</td>\n",
       "      <td>0.009089</td>\n",
       "      <td>0.004</td>\n",
       "      <td>0</td>\n",
       "      <td>0.438925</td>\n",
       "      <td>0.068941</td>\n",
       "      <td>0.038</td>\n",
       "    </tr>\n",
       "  </tbody>\n",
       "</table>\n",
       "<p>1 rows × 161 columns</p>\n",
       "</div>"
      ],
      "text/plain": [
       "  Model  PA_base Hal  PA_base F1  PA_base IAA  PA_base HS  PA_1 Hal   PA_1 F1  \\\n",
       "0   gpt            0    0.787792         0.58       0.398         0  0.829967   \n",
       "\n",
       "   PA_1 IAA  PA_1 HS  PA_2 Hal  ...  PH_7 IAA  PH_7 HS  PH_8 Hal   PH_8 F1  \\\n",
       "0      0.66    0.486         0  ...  0.031768    0.014         0  0.378382   \n",
       "\n",
       "   PH_8 IAA  PH_8 HS  PH_9 Hal   PH_9 F1  PH_9 IAA  PH_9 HS  \n",
       "0  0.009089    0.004         0  0.438925  0.068941    0.038  \n",
       "\n",
       "[1 rows x 161 columns]"
      ]
     },
     "execution_count": 8,
     "metadata": {},
     "output_type": "execute_result"
    }
   ],
   "source": [
    "res"
   ]
  }
 ],
 "metadata": {
  "kernelspec": {
   "display_name": "Python 3 (ipykernel)",
   "language": "python",
   "name": "python3"
  },
  "language_info": {
   "codemirror_mode": {
    "name": "ipython",
    "version": 3
   },
   "file_extension": ".py",
   "mimetype": "text/x-python",
   "name": "python",
   "nbconvert_exporter": "python",
   "pygments_lexer": "ipython3",
   "version": "3.10.6"
  }
 },
 "nbformat": 4,
 "nbformat_minor": 5
}
