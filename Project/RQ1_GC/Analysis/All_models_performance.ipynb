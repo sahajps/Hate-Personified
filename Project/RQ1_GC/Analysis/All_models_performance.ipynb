{
 "cells": [
  {
   "cell_type": "code",
   "execution_count": 5,
   "id": "633456f2-7524-4870-95c0-a5406aa3cd0b",
   "metadata": {},
   "outputs": [],
   "source": [
    "import pandas as pd\n",
    "import re\n",
    "from tqdm import tqdm\n",
    "from sklearn.metrics import f1_score, cohen_kappa_score"
   ]
  },
  {
   "cell_type": "code",
   "execution_count": 6,
   "id": "da5b037a-2646-47e0-9bd0-b6cf2091a552",
   "metadata": {},
   "outputs": [],
   "source": [
    "def map_fn(row):\n",
    "    row = str(row)\n",
    "    if(re.search('yes', row) and re.search('no', row)):\n",
    "        return None\n",
    "    elif(re.search('yes', row)):\n",
    "        return 1\n",
    "    elif(re.search('no', row)):\n",
    "        return 0\n",
    "    elif(re.search('hateful', row)):\n",
    "        return 1\n",
    "    elif(re.search('hate.', row)):\n",
    "        return 1\n",
    "\n",
    "    return None"
   ]
  },
  {
   "cell_type": "code",
   "execution_count": 7,
   "id": "20022a3a-6c64-4838-9a99-6c802c1e14a8",
   "metadata": {},
   "outputs": [
    {
     "name": "stderr",
     "output_type": "stream",
     "text": [
      "  0%|          | 0/2 [00:00<?, ?it/s]"
     ]
    },
    {
     "name": "stderr",
     "output_type": "stream",
     "text": [
      "100%|██████████| 2/2 [00:07<00:00,  3.75s/it]\n"
     ]
    }
   ],
   "source": [
    "files = ['P_base']*6 + ['P'+str(i) for i in range(1,6)]\n",
    "col_gold = ['isHate'] + 2*['United_States_Hate', 'Australia_Hate', 'United_Kingdom_Hate', 'South_Africa_Hate', 'Singapore_Hate']\n",
    "\n",
    "type = ['OS_LLMs', 'ChatGPT']\n",
    "for t in tqdm(type):\n",
    "    for f,cg in zip(files, col_gold):\n",
    "        df = pd.read_excel('../'+t+'/'+f+'.xlsx')\n",
    "\n",
    "        # For FlanT5-XXL, you can choose the below 500 samples and print at the end to check it's performance to compare with ChatGPT\n",
    "        # Also, keep `files = ['P_base']`, `col_gold = ['isHate']` and `type = ['OS_LLMs']`\n",
    "        # df = df.sample(n=500, random_state=42).reset_index(drop=True)\n",
    "        col = df.columns[8:]\n",
    "        \n",
    "        no_ans = []\n",
    "        F1 = []\n",
    "        IAA = []\n",
    "        \n",
    "        for i in col:\n",
    "            #print(i)\n",
    "            df[i] = df[i].apply(lambda x: str(x).lower())\n",
    "            df[i] = df[i].apply(map_fn)\n",
    "    \n",
    "            pen = (df.shape[0]-df[i].isna().sum())/df.shape[0]\n",
    "            no_ans.append(df[i].isna().sum())\n",
    "            \n",
    "            tmp = df[[cg, i]].dropna()\n",
    "    \n",
    "            F1.append(pen*f1_score(tmp[cg], tmp[i], average='weighted'))\n",
    "        \n",
    "            IAA.append(pen*cohen_kappa_score(tmp[cg], tmp[i]))\n",
    "    \n",
    "        \n",
    "        res = pd.read_csv('Performance'+t+'.csv')\n",
    "        try:\n",
    "            res[f+' '+cg+' Hal'] = no_ans\n",
    "            res[f+' '+cg+' F1'] = F1\n",
    "            res[f+' '+cg+' IAA'] = IAA\n",
    "        except:\n",
    "            # if there is no output for 8th model (Llama3) then it should append `None`\n",
    "            no_ans.append(None)\n",
    "            F1.append(None)\n",
    "            IAA.append(None)\n",
    "            res[f+' '+cg+' Hal'] = no_ans\n",
    "            res[f+' '+cg+' F1'] = F1\n",
    "            res[f+' '+cg+' IAA'] = IAA\n",
    "\n",
    "        res.to_csv('Performance'+t+'.csv', index=False)\n",
    "\n",
    "        # To print for a single compair (FlanT5-XXL -- in case)\n",
    "        # print(no_ans[-1], F1[-1], IAA[-1])"
   ]
  }
 ],
 "metadata": {
  "kernelspec": {
   "display_name": "Python 3 (ipykernel)",
   "language": "python",
   "name": "python3"
  },
  "language_info": {
   "codemirror_mode": {
    "name": "ipython",
    "version": 3
   },
   "file_extension": ".py",
   "mimetype": "text/x-python",
   "name": "python",
   "nbconvert_exporter": "python",
   "pygments_lexer": "ipython3",
   "version": "3.10.6"
  }
 },
 "nbformat": 4,
 "nbformat_minor": 5
}
