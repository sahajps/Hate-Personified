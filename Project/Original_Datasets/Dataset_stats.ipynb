{
 "cells": [
  {
   "cell_type": "code",
   "execution_count": 2,
   "metadata": {},
   "outputs": [],
   "source": [
    "import pandas as pd\n",
    "from glob import glob"
   ]
  },
  {
   "cell_type": "code",
   "execution_count": 5,
   "metadata": {},
   "outputs": [
    {
     "data": {
      "text/plain": [
       "['HateXplain.xlsx',\n",
       " 'CREHate.xlsx',\n",
       " 'HASOC2020_Hindi.xlsx',\n",
       " 'HASOC2020_German.xlsx',\n",
       " 'MLMA_French.csv',\n",
       " 'MLMA_Arabic.csv']"
      ]
     },
     "execution_count": 5,
     "metadata": {},
     "output_type": "execute_result"
    }
   ],
   "source": [
    "ds = glob(\"*.xlsx\") + glob(\"*.csv\")\n",
    "\n",
    "ds"
   ]
  },
  {
   "cell_type": "code",
   "execution_count": 17,
   "metadata": {},
   "outputs": [
    {
     "data": {
      "text/plain": [
       "label\n",
       "1    6251\n",
       "0    4748\n",
       "2    4384\n",
       "Name: count, dtype: int64"
      ]
     },
     "execution_count": 17,
     "metadata": {},
     "output_type": "execute_result"
    }
   ],
   "source": [
    "# HateXplain (0: Hate, 1: Non-hate, 2: Offensive) We have excluded the Offensive catogory for our analysis\n",
    "df = pd.read_excel(ds[0])\n",
    "\n",
    "df.label.value_counts()"
   ]
  },
  {
   "cell_type": "code",
   "execution_count": 15,
   "metadata": {},
   "outputs": [
    {
     "data": {
      "text/plain": [
       "isHate\n",
       "0    871\n",
       "1    709\n",
       "Name: count, dtype: int64"
      ]
     },
     "execution_count": 15,
     "metadata": {},
     "output_type": "execute_result"
    }
   ],
   "source": [
    "# CREHate (0: Non-hate, 1: Hate) (isHate: overall {max voting} & country-wise)\n",
    "df = pd.read_excel(ds[1])\n",
    "\n",
    "df.isHate.value_counts()"
   ]
  },
  {
   "cell_type": "code",
   "execution_count": 19,
   "metadata": {},
   "outputs": [
    {
     "data": {
      "text/plain": [
       "task2\n",
       "NONE    2116\n",
       "OFFN     465\n",
       "HATE     234\n",
       "PRFN     148\n",
       "Name: count, dtype: int64"
      ]
     },
     "execution_count": 19,
     "metadata": {},
     "output_type": "execute_result"
    }
   ],
   "source": [
    "# HASOC2020 (Hindi) We took HATE & NONE of `task2` for our analysis.\n",
    "# In total 500 samples were used HATE (234/234) & NONE (266/2116): `random_state=42`\n",
    "df = pd.read_excel(ds[2])\n",
    "\n",
    "df.task2.value_counts()"
   ]
  },
  {
   "cell_type": "code",
   "execution_count": 24,
   "metadata": {},
   "outputs": [
    {
     "data": {
      "text/plain": [
       "task2\n",
       "NONE    1700\n",
       "PRFN     387\n",
       "HATE     146\n",
       "OFFN     140\n",
       "Name: count, dtype: int64"
      ]
     },
     "execution_count": 24,
     "metadata": {},
     "output_type": "execute_result"
    }
   ],
   "source": [
    "# HASOC2020 (Germaan) We took HATE & NONE of `task2` for our analysis.\n",
    "# In total 500 samples were used HATE (146/146) & NONE (354/1700): `random_state=42`\n",
    "df = pd.read_excel(ds[3])\n",
    "\n",
    "df.task2.value_counts()"
   ]
  },
  {
   "cell_type": "code",
   "execution_count": 27,
   "metadata": {},
   "outputs": [
    {
     "data": {
      "text/plain": [
       "sentiment\n",
       "offensive                               1336\n",
       "normal                                   821\n",
       "abusive                                  594\n",
       "fearful                                  236\n",
       "hateful                                  207\n",
       "                                        ... \n",
       "abusive_hateful_normal                     1\n",
       "abusive_hateful_disrespectful_normal       1\n",
       "hateful_disrespectful_normal               1\n",
       "abusive_disrespectful_hateful_normal       1\n",
       "disrespectful_hateful                      1\n",
       "Name: count, Length: 69, dtype: int64"
      ]
     },
     "execution_count": 27,
     "metadata": {},
     "output_type": "execute_result"
    }
   ],
   "source": [
    "# MLMA (French) We took hateful & normal of `sentiment` for our analysis.\n",
    "# In total 500 samples were used hateful (207/207) & NONE (293/821): `random_state=42`\n",
    "df = pd.read_csv(ds[4])\n",
    "\n",
    "df.sentiment.value_counts()"
   ]
  },
  {
   "cell_type": "code",
   "execution_count": 30,
   "metadata": {},
   "outputs": [
    {
     "data": {
      "text/plain": [
       "sentiment\n",
       "offensive                                          950\n",
       "normal                                             915\n",
       "hateful                                            460\n",
       "abusive_disrespectful                              205\n",
       "abusive_hateful                                    168\n",
       "disrespectful                                      167\n",
       "disrespectful_normal                               103\n",
       "abusive_normal                                      81\n",
       "abusive_offensive                                   77\n",
       "hateful_disrespectful                               40\n",
       "offensive_disrespectful                             32\n",
       "abusive_offensive_hateful_disrespectful_normal      23\n",
       "offensive_normal                                    21\n",
       "abusive                                             19\n",
       "hateful_normal                                      15\n",
       "fearful                                             12\n",
       "offensive_hateful                                   11\n",
       "abusive_offensive_disrespectful_hateful_normal      10\n",
       "fearful_abusive_offensive_disrespectful_normal       8\n",
       "fearful_normal                                       5\n",
       "fearful_abusive_offensive_hateful_disrespectful      5\n",
       "abusive_offensive_hateful_disrespectful              4\n",
       "disrespectful_hateful                                4\n",
       "fearful_abusive_disrespectful_hateful_normal         3\n",
       "abusive_offensive_disrespectful_normal               2\n",
       "offensive_hateful_disrespectful_normal               2\n",
       "abusive_offensive_hateful_normal                     1\n",
       "fearful_offensive_disrespectful_hateful_normal       1\n",
       "fearful_abusive_hateful_disrespectful_normal         1\n",
       "fearful_disrespectful_hateful_normal                 1\n",
       "fearful_offensive_hateful_normal                     1\n",
       "abusive_disrespectful_hateful_normal                 1\n",
       "hateful_disrespectful_normal                         1\n",
       "fearful_disrespectful                                1\n",
       "fearful_abusive_offensive_hateful_normal             1\n",
       "fearful_abusive_offensive_hateful                    1\n",
       "fearful_offensive_hateful_disrespectful_normal       1\n",
       "Name: count, dtype: int64"
      ]
     },
     "execution_count": 30,
     "metadata": {},
     "output_type": "execute_result"
    }
   ],
   "source": [
    "# MLMA (Arabic) We took hateful & normal of `sentiment` for our analysis.\n",
    "# In total 500 samples were used hateful (250/460) & NONE (250/915): `random_state=42`\n",
    "df = pd.read_csv(ds[5])\n",
    "\n",
    "df.sentiment.value_counts()"
   ]
  }
 ],
 "metadata": {
  "kernelspec": {
   "display_name": "Python 3",
   "language": "python",
   "name": "python3"
  },
  "language_info": {
   "codemirror_mode": {
    "name": "ipython",
    "version": 3
   },
   "file_extension": ".py",
   "mimetype": "text/x-python",
   "name": "python",
   "nbconvert_exporter": "python",
   "pygments_lexer": "ipython3",
   "version": "3.10.6"
  }
 },
 "nbformat": 4,
 "nbformat_minor": 2
}
