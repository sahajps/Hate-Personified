{
 "cells": [
  {
   "cell_type": "code",
   "execution_count": 1,
   "id": "633456f2-7524-4870-95c0-a5406aa3cd0b",
   "metadata": {},
   "outputs": [],
   "source": [
    "import pandas as pd\n",
    "import re\n",
    "from sklearn.metrics import f1_score, cohen_kappa_score\n",
    "from tqdm import tqdm"
   ]
  },
  {
   "cell_type": "code",
   "execution_count": 2,
   "id": "da5b037a-2646-47e0-9bd0-b6cf2091a552",
   "metadata": {},
   "outputs": [],
   "source": [
    "def map_fn(row):\n",
    "    row = str(row)\n",
    "    if(re.search('yes', row) and re.search('no', row)):\n",
    "        return None\n",
    "    elif(re.search('yes', row)):\n",
    "        return 1\n",
    "    elif(re.search('no', row)):\n",
    "        return 0\n",
    "    elif(re.search('hateful', row)):\n",
    "        return 1\n",
    "    elif(re.search('hate.', row)):\n",
    "        return 1\n",
    "\n",
    "    return None"
   ]
  },
  {
   "cell_type": "code",
   "execution_count": 3,
   "id": "20022a3a-6c64-4838-9a99-6c802c1e14a8",
   "metadata": {},
   "outputs": [
    {
     "name": "stderr",
     "output_type": "stream",
     "text": [
      "  0%|          | 0/46 [00:00<?, ?it/s]"
     ]
    },
    {
     "name": "stderr",
     "output_type": "stream",
     "text": [
      "100%|██████████| 46/46 [00:40<00:00,  1.15it/s]\n",
      "100%|██████████| 46/46 [00:07<00:00,  6.11it/s]\n"
     ]
    }
   ],
   "source": [
    "files = ['P1_'+str(i) for i in range(1,24)] + ['P2_'+str(i) for i in range(1,24)]\n",
    "type = ['OS_LLMs', 'ChatGPT']\n",
    "\n",
    "for t in type:\n",
    "    firstTime =True\n",
    "    for f in tqdm(files):\n",
    "        df = pd.read_excel('../'+t+'/'+f+'.xlsx')\n",
    "        col = df.columns[8:]\n",
    "        #print(df.shape[0])\n",
    "        no_ans = []\n",
    "        F1 = []\n",
    "        IAA = []\n",
    "        HS = []\n",
    "        for i in col:\n",
    "            df[i] = df[i].apply(lambda x: str(x).lower())\n",
    "            \n",
    "            df[i] = df[i].apply(map_fn)\n",
    "    \n",
    "            pen = (df.shape[0]-df[i].isna().sum())/df.shape[0]\n",
    "            no_ans.append(df[i].isna().sum())\n",
    "    \n",
    "            tmp = df[['isHate', i]].dropna()\n",
    "    \n",
    "            F1.append(pen*f1_score(tmp['isHate'], tmp[i], average='weighted'))\n",
    "        \n",
    "            IAA.append(pen*cohen_kappa_score(tmp['isHate'], tmp[i]))\n",
    "    \n",
    "            HS.append(tmp[tmp[i]==1].shape[0]/tmp.shape[0])\n",
    "            #IAA.append(tmp[tmp[i]==0].shape[0])\n",
    "    \n",
    "        \n",
    "        res = pd.read_csv('Performance'+t+'_HA.csv')\n",
    "        if(firstTime):\n",
    "            res = res[['Models']]\n",
    "            firstTime = False\n",
    "        # res[f+' Hal'] = no_ans\n",
    "        # res[f+' F1'] = F1\n",
    "        res[f+' IAA'] = IAA\n",
    "        res[f+ ' HS'] = HS\n",
    "        res.to_csv('Performance'+t+'_HA.csv', index=False)"
   ]
  },
  {
   "cell_type": "code",
   "execution_count": 4,
   "id": "ee0e83f4-712e-4c32-93fb-c30a8501d367",
   "metadata": {},
   "outputs": [
    {
     "name": "stderr",
     "output_type": "stream",
     "text": [
      "100%|██████████| 23/23 [00:10<00:00,  2.25it/s]\n",
      "100%|██████████| 23/23 [00:03<00:00,  6.93it/s]\n"
     ]
    }
   ],
   "source": [
    "files = ['P3_'+str(i) for i in range(1,24)]\n",
    "type = ['OS_LLMs', 'ChatGPT']\n",
    "\n",
    "for t in type:\n",
    "    firstTime =True\n",
    "    for f in tqdm(files):\n",
    "        df = pd.read_excel('../'+t+'/'+f+'.xlsx')\n",
    "        col = df.columns[8:]\n",
    "        #print(df.shape[0])\n",
    "        no_ans = []\n",
    "        F1 = []\n",
    "        IAA = []\n",
    "        HS = []\n",
    "        for i in col:\n",
    "            df[i] = df[i].apply(lambda x: str(x).lower())\n",
    "            \n",
    "            df[i] = df[i].apply(map_fn)\n",
    "    \n",
    "            pen = (df.shape[0]-df[i].isna().sum())/df.shape[0]\n",
    "            no_ans.append(df[i].isna().sum())\n",
    "    \n",
    "            tmp = df[['isHate', i]].dropna()\n",
    "    \n",
    "            F1.append(pen*f1_score(tmp['isHate'], tmp[i], average='weighted'))\n",
    "        \n",
    "            IAA.append(pen*cohen_kappa_score(tmp['isHate'], tmp[i]))\n",
    "    \n",
    "            HS.append(tmp[tmp[i]==1].shape[0]/tmp.shape[0])\n",
    "            #IAA.append(tmp[tmp[i]==0].shape[0])\n",
    "    \n",
    "        \n",
    "        res = pd.read_csv('Performance'+t+'_N.csv')\n",
    "        if(firstTime):\n",
    "            res = res[['Models']]\n",
    "            firstTime = False\n",
    "        # res[f+' Hal'] = no_ans\n",
    "        # res[f+' F1'] = F1\n",
    "        res[f+' IAA'] = IAA\n",
    "        res[f+' HS'] = HS\n",
    "        res.to_csv('Performance'+t+'_N.csv', index=False)"
   ]
  },
  {
   "cell_type": "code",
   "execution_count": null,
   "id": "af6b5437-033b-46a0-974b-1dd870808f2b",
   "metadata": {},
   "outputs": [],
   "source": []
  }
 ],
 "metadata": {
  "kernelspec": {
   "display_name": "Python 3 (ipykernel)",
   "language": "python",
   "name": "python3"
  },
  "language_info": {
   "codemirror_mode": {
    "name": "ipython",
    "version": 3
   },
   "file_extension": ".py",
   "mimetype": "text/x-python",
   "name": "python",
   "nbconvert_exporter": "python",
   "pygments_lexer": "ipython3",
   "version": "3.10.6"
  }
 },
 "nbformat": 4,
 "nbformat_minor": 5
}
