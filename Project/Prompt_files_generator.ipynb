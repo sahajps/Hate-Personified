{
 "cells": [
  {
   "cell_type": "code",
   "execution_count": null,
   "id": "26f7c5c9-66e8-4e51-9e72-17481c29277e",
   "metadata": {},
   "outputs": [],
   "source": [
    "# Sample-rough code to generate prompt files"
   ]
  },
  {
   "cell_type": "code",
   "execution_count": null,
   "id": "d9b15cd8-bf86-4b17-8bc9-e722cc7d5a6e",
   "metadata": {},
   "outputs": [],
   "source": [
    "import pandas as pd\n",
    "df = pd.read_csv(\"ML/ar_dataset.csv\")\n",
    "\n",
    "df = df[['tweet', 'sentiment']]\n",
    "\n",
    "df1 = df[df.sentiment == 'normal'].sample(n=250, random_state=42)\n",
    "df2 = df[df.sentiment == 'hateful'].sample(n=250, random_state=42)\n",
    "\n",
    "df = pd.concat([df1, df2]).sample(frac=1, random_state=42).reset_index(drop=True)\n",
    "\n",
    "df.columns = ['text', 'label']\n",
    "df.label = df.label.map({'normal':0, 'NONE':0, 'hateful':1, 'HATE':1})\n",
    "#df"
   ]
  },
  {
   "cell_type": "code",
   "execution_count": null,
   "id": "5a266f31-1798-43a7-8cbf-d0a3985b865e",
   "metadata": {},
   "outputs": [],
   "source": [
    "import pandas as pd\n",
    "df = pd.read_csv(\"ML/fr_dataset.csv\")\n",
    "\n",
    "df = df[['tweet', 'sentiment']]\n",
    "\n",
    "df1 = df[df.sentiment == 'normal'].sample(n=293, random_state=42)\n",
    "df2 = df[df.sentiment == 'hateful'].sample(n=207, random_state=42)\n",
    "\n",
    "df = pd.concat([df1, df2]).sample(frac=1, random_state=42).reset_index(drop=True)\n",
    "\n",
    "df.columns = ['text', 'label']\n",
    "df.label = df.label.map({'normal':0, 'NONE':0, 'hateful':1, 'HATE':1})\n",
    "#df"
   ]
  },
  {
   "cell_type": "code",
   "execution_count": null,
   "id": "e92adac7-be63-44ea-9a3e-c7731cb23cb1",
   "metadata": {},
   "outputs": [],
   "source": [
    "import pandas as pd\n",
    "df = pd.read_excel(\"ML/De.xlsx\")\n",
    "\n",
    "df = df[['text', 'task2']]\n",
    "\n",
    "df1 = df[df.task2 == 'NONE'].sample(n=354, random_state=42)\n",
    "df2 = df[df.task2 == 'HATE'].sample(n=146, random_state=42)\n",
    "\n",
    "df = pd.concat([df1, df2]).sample(frac=1, random_state=42).reset_index(drop=True)\n",
    "\n",
    "df.columns = ['text', 'label']\n",
    "df.label = df.label.map({'normal':0, 'NONE':0, 'hateful':1, 'HATE':1})\n",
    "#df"
   ]
  },
  {
   "cell_type": "code",
   "execution_count": null,
   "id": "11f2ebc5-9eea-45d5-aad6-9b0edb590f0f",
   "metadata": {},
   "outputs": [],
   "source": [
    "import pandas as pd\n",
    "df = pd.read_excel(\"ML/Hi.xlsx\")\n",
    "\n",
    "df = df[['text', 'task2']]\n",
    "\n",
    "df1 = df[df.task2 == 'NONE'].sample(n=266, random_state=42)\n",
    "df2 = df[df.task2 == 'HATE'].sample(n=234, random_state=42)\n",
    "\n",
    "df = pd.concat([df1, df2]).sample(frac=1, random_state=42).reset_index(drop=True)\n",
    "\n",
    "df.columns = ['text', 'label']\n",
    "df.label = df.label.map({'normal':0, 'NONE':0, 'hateful':1, 'HATE':1})\n",
    "#df"
   ]
  },
  {
   "cell_type": "code",
   "execution_count": null,
   "id": "7cf04f24-d287-41c8-b525-8729980b737d",
   "metadata": {},
   "outputs": [],
   "source": [
    "i = 22\n",
    "\n",
    "def promptGen(row):\n",
    "    p = \"The following statement is in Hindi langauge and a non-native hindi annotated this as hateful: \"+ row +\". Is the given statement hateful?\"\n",
    "    return p\n",
    "\n",
    "#df = pd.read_excel(\"ar_dataset.csv\")\n",
    "#df = df[df.label<2]\n",
    "#df.reset_index(drop=True, inplace=True)\n",
    "\n",
    "df.text = df.text.apply(promptGen)\n",
    "\n",
    "df.to_excel('ML/P'+str(i)+'.xlsx', index=False)\n",
    "df.text.iloc[0]"
   ]
  }
 ],
 "metadata": {
  "kernelspec": {
   "display_name": "Python 3 (ipykernel)",
   "language": "python",
   "name": "python3"
  },
  "language_info": {
   "codemirror_mode": {
    "name": "ipython",
    "version": 3
   },
   "file_extension": ".py",
   "mimetype": "text/x-python",
   "name": "python",
   "nbconvert_exporter": "python",
   "pygments_lexer": "ipython3",
   "version": "3.10.6"
  }
 },
 "nbformat": 4,
 "nbformat_minor": 5
}
